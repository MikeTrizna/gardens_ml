{
 "cells": [
  {
   "cell_type": "code",
   "execution_count": 1,
   "metadata": {},
   "outputs": [],
   "source": [
    "import pandas as pd\n",
    "import sqlite3"
   ]
  },
  {
   "cell_type": "code",
   "execution_count": 2,
   "metadata": {},
   "outputs": [
    {
     "data": {
      "text/html": [
       "<div>\n",
       "<style scoped>\n",
       "    .dataframe tbody tr th:only-of-type {\n",
       "        vertical-align: middle;\n",
       "    }\n",
       "\n",
       "    .dataframe tbody tr th {\n",
       "        vertical-align: top;\n",
       "    }\n",
       "\n",
       "    .dataframe thead th {\n",
       "        text-align: right;\n",
       "    }\n",
       "</style>\n",
       "<table border=\"1\" class=\"dataframe\">\n",
       "  <thead>\n",
       "    <tr style=\"text-align: right;\">\n",
       "      <th></th>\n",
       "      <th>accession_number</th>\n",
       "      <th>scientific_name</th>\n",
       "      <th>common_name</th>\n",
       "      <th>building</th>\n",
       "      <th>life_form</th>\n",
       "      <th>media_count</th>\n",
       "    </tr>\n",
       "  </thead>\n",
       "  <tbody>\n",
       "    <tr>\n",
       "      <th>0</th>\n",
       "      <td>2011-0516A</td>\n",
       "      <td>Prunus subhirtella 'Pendula'</td>\n",
       "      <td>Weeping Higan Cherry</td>\n",
       "      <td>NaN</td>\n",
       "      <td>Deciduous tree</td>\n",
       "      <td>5</td>\n",
       "    </tr>\n",
       "    <tr>\n",
       "      <th>1</th>\n",
       "      <td>2011-0569A</td>\n",
       "      <td>Tilia cordata 'June Bride'</td>\n",
       "      <td>June Bride Littleleaf Linden</td>\n",
       "      <td>NaN</td>\n",
       "      <td>Deciduous tree</td>\n",
       "      <td>20</td>\n",
       "    </tr>\n",
       "    <tr>\n",
       "      <th>2</th>\n",
       "      <td>2011-1259A</td>\n",
       "      <td>Prunus subhirtella 'Pendula'</td>\n",
       "      <td>Weeping Higan Cherry</td>\n",
       "      <td>NASM</td>\n",
       "      <td>Deciduous tree</td>\n",
       "      <td>5</td>\n",
       "    </tr>\n",
       "    <tr>\n",
       "      <th>3</th>\n",
       "      <td>2011-1257A</td>\n",
       "      <td>Prunus subhirtella 'Pendula'</td>\n",
       "      <td>Weeping Higan Cherry</td>\n",
       "      <td>NASM</td>\n",
       "      <td>Deciduous tree</td>\n",
       "      <td>4</td>\n",
       "    </tr>\n",
       "    <tr>\n",
       "      <th>4</th>\n",
       "      <td>2014-1217A</td>\n",
       "      <td>Betula papyrifera 'Renci' Renaissance Reflection</td>\n",
       "      <td>Paper birch,White birch,Canoe birch,Renaissanc...</td>\n",
       "      <td>NMNH</td>\n",
       "      <td>Deciduous tree</td>\n",
       "      <td>8</td>\n",
       "    </tr>\n",
       "  </tbody>\n",
       "</table>\n",
       "</div>"
      ],
      "text/plain": [
       "  accession_number                                   scientific_name  \\\n",
       "0       2011-0516A                      Prunus subhirtella 'Pendula'   \n",
       "1       2011-0569A                        Tilia cordata 'June Bride'   \n",
       "2       2011-1259A                      Prunus subhirtella 'Pendula'   \n",
       "3       2011-1257A                      Prunus subhirtella 'Pendula'   \n",
       "4       2014-1217A  Betula papyrifera 'Renci' Renaissance Reflection   \n",
       "\n",
       "                                         common_name building       life_form  \\\n",
       "0                               Weeping Higan Cherry      NaN  Deciduous tree   \n",
       "1                       June Bride Littleleaf Linden      NaN  Deciduous tree   \n",
       "2                               Weeping Higan Cherry     NASM  Deciduous tree   \n",
       "3                               Weeping Higan Cherry     NASM  Deciduous tree   \n",
       "4  Paper birch,White birch,Canoe birch,Renaissanc...     NMNH  Deciduous tree   \n",
       "\n",
       "   media_count  \n",
       "0            5  \n",
       "1           20  \n",
       "2            5  \n",
       "3            4  \n",
       "4            8  "
      ]
     },
     "execution_count": 2,
     "metadata": {},
     "output_type": "execute_result"
    }
   ],
   "source": [
    "tree_df = pd.read_csv('garden_trees.tsv', sep='\\t')\n",
    "tree_df.head()"
   ]
  },
  {
   "cell_type": "code",
   "execution_count": 3,
   "metadata": {},
   "outputs": [
    {
     "name": "stdout",
     "output_type": "stream",
     "text": [
      "<class 'pandas.core.frame.DataFrame'>\n",
      "RangeIndex: 1702 entries, 0 to 1701\n",
      "Data columns (total 6 columns):\n",
      " #   Column            Non-Null Count  Dtype \n",
      "---  ------            --------------  ----- \n",
      " 0   accession_number  1702 non-null   object\n",
      " 1   scientific_name   1702 non-null   object\n",
      " 2   common_name       1679 non-null   object\n",
      " 3   building          1045 non-null   object\n",
      " 4   life_form         1702 non-null   object\n",
      " 5   media_count       1702 non-null   int64 \n",
      "dtypes: int64(1), object(5)\n",
      "memory usage: 79.9+ KB\n"
     ]
    }
   ],
   "source": [
    "tree_df.info()"
   ]
  },
  {
   "cell_type": "code",
   "execution_count": 6,
   "metadata": {},
   "outputs": [
    {
     "data": {
      "text/html": [
       "<div>\n",
       "<style scoped>\n",
       "    .dataframe tbody tr th:only-of-type {\n",
       "        vertical-align: middle;\n",
       "    }\n",
       "\n",
       "    .dataframe tbody tr th {\n",
       "        vertical-align: top;\n",
       "    }\n",
       "\n",
       "    .dataframe thead th {\n",
       "        text-align: right;\n",
       "    }\n",
       "</style>\n",
       "<table border=\"1\" class=\"dataframe\">\n",
       "  <thead>\n",
       "    <tr style=\"text-align: right;\">\n",
       "      <th></th>\n",
       "      <th>accession_number</th>\n",
       "      <th>scientific_name</th>\n",
       "      <th>common_name</th>\n",
       "      <th>building</th>\n",
       "      <th>life_form</th>\n",
       "      <th>media_count</th>\n",
       "    </tr>\n",
       "  </thead>\n",
       "  <tbody>\n",
       "    <tr>\n",
       "      <th>0</th>\n",
       "      <td>SG-2011-0516A</td>\n",
       "      <td>Prunus subhirtella 'Pendula'</td>\n",
       "      <td>Weeping Higan Cherry</td>\n",
       "      <td>NaN</td>\n",
       "      <td>Deciduous tree</td>\n",
       "      <td>5</td>\n",
       "    </tr>\n",
       "    <tr>\n",
       "      <th>1</th>\n",
       "      <td>SG-2011-0569A</td>\n",
       "      <td>Tilia cordata 'June Bride'</td>\n",
       "      <td>June Bride Littleleaf Linden</td>\n",
       "      <td>NaN</td>\n",
       "      <td>Deciduous tree</td>\n",
       "      <td>20</td>\n",
       "    </tr>\n",
       "    <tr>\n",
       "      <th>2</th>\n",
       "      <td>SG-2011-1259A</td>\n",
       "      <td>Prunus subhirtella 'Pendula'</td>\n",
       "      <td>Weeping Higan Cherry</td>\n",
       "      <td>NASM</td>\n",
       "      <td>Deciduous tree</td>\n",
       "      <td>5</td>\n",
       "    </tr>\n",
       "    <tr>\n",
       "      <th>3</th>\n",
       "      <td>SG-2011-1257A</td>\n",
       "      <td>Prunus subhirtella 'Pendula'</td>\n",
       "      <td>Weeping Higan Cherry</td>\n",
       "      <td>NASM</td>\n",
       "      <td>Deciduous tree</td>\n",
       "      <td>4</td>\n",
       "    </tr>\n",
       "    <tr>\n",
       "      <th>4</th>\n",
       "      <td>SG-2014-1217A</td>\n",
       "      <td>Betula papyrifera 'Renci' Renaissance Reflection</td>\n",
       "      <td>Paper birch,White birch,Canoe birch,Renaissanc...</td>\n",
       "      <td>NMNH</td>\n",
       "      <td>Deciduous tree</td>\n",
       "      <td>8</td>\n",
       "    </tr>\n",
       "  </tbody>\n",
       "</table>\n",
       "</div>"
      ],
      "text/plain": [
       "  accession_number                                   scientific_name  \\\n",
       "0    SG-2011-0516A                      Prunus subhirtella 'Pendula'   \n",
       "1    SG-2011-0569A                        Tilia cordata 'June Bride'   \n",
       "2    SG-2011-1259A                      Prunus subhirtella 'Pendula'   \n",
       "3    SG-2011-1257A                      Prunus subhirtella 'Pendula'   \n",
       "4    SG-2014-1217A  Betula papyrifera 'Renci' Renaissance Reflection   \n",
       "\n",
       "                                         common_name building       life_form  \\\n",
       "0                               Weeping Higan Cherry      NaN  Deciduous tree   \n",
       "1                       June Bride Littleleaf Linden      NaN  Deciduous tree   \n",
       "2                               Weeping Higan Cherry     NASM  Deciduous tree   \n",
       "3                               Weeping Higan Cherry     NASM  Deciduous tree   \n",
       "4  Paper birch,White birch,Canoe birch,Renaissanc...     NMNH  Deciduous tree   \n",
       "\n",
       "   media_count  \n",
       "0            5  \n",
       "1           20  \n",
       "2            5  \n",
       "3            4  \n",
       "4            8  "
      ]
     },
     "execution_count": 6,
     "metadata": {},
     "output_type": "execute_result"
    }
   ],
   "source": [
    "tree_df['accession_number'] = 'SG-' + tree_df['accession_number']\n",
    "tree_df.head()"
   ]
  },
  {
   "cell_type": "code",
   "execution_count": 4,
   "metadata": {},
   "outputs": [
    {
     "name": "stdout",
     "output_type": "stream",
     "text": [
      "<class 'pandas.core.frame.DataFrame'>\n",
      "RangeIndex: 8097 entries, 0 to 8096\n",
      "Data columns (total 5 columns):\n",
      " #   Column          Non-Null Count  Dtype \n",
      "---  ------          --------------  ----- \n",
      " 0   object_id       8097 non-null   object\n",
      " 1   ids_id          8097 non-null   object\n",
      " 2   image_url       8097 non-null   object\n",
      " 3   image_label     8097 non-null   object\n",
      " 4   image_category  8097 non-null   object\n",
      "dtypes: object(5)\n",
      "memory usage: 316.4+ KB\n"
     ]
    }
   ],
   "source": [
    "image_df = pd.read_csv('garden_edan_image_data.tsv', sep='\\t')\n",
    "image_df.info()"
   ]
  },
  {
   "cell_type": "code",
   "execution_count": 5,
   "metadata": {},
   "outputs": [
    {
     "data": {
      "text/html": [
       "<div>\n",
       "<style scoped>\n",
       "    .dataframe tbody tr th:only-of-type {\n",
       "        vertical-align: middle;\n",
       "    }\n",
       "\n",
       "    .dataframe tbody tr th {\n",
       "        vertical-align: top;\n",
       "    }\n",
       "\n",
       "    .dataframe thead th {\n",
       "        text-align: right;\n",
       "    }\n",
       "</style>\n",
       "<table border=\"1\" class=\"dataframe\">\n",
       "  <thead>\n",
       "    <tr style=\"text-align: right;\">\n",
       "      <th></th>\n",
       "      <th>object_id</th>\n",
       "      <th>ids_id</th>\n",
       "      <th>image_url</th>\n",
       "      <th>image_label</th>\n",
       "      <th>image_category</th>\n",
       "    </tr>\n",
       "  </thead>\n",
       "  <tbody>\n",
       "    <tr>\n",
       "      <th>0</th>\n",
       "      <td>SG-2011-0516A</td>\n",
       "      <td>SG-2011-0516A-FAL1-HL-000003</td>\n",
       "      <td>https://ids.si.edu/ids/deliveryService?id=SG-2...</td>\n",
       "      <td>FAL1</td>\n",
       "      <td>FAL</td>\n",
       "    </tr>\n",
       "    <tr>\n",
       "      <th>1</th>\n",
       "      <td>SG-2011-0516A</td>\n",
       "      <td>SG-2011-0516A-SPR1-HL</td>\n",
       "      <td>https://ids.si.edu/ids/deliveryService?id=SG-2...</td>\n",
       "      <td>SPR1</td>\n",
       "      <td>SPR</td>\n",
       "    </tr>\n",
       "    <tr>\n",
       "      <th>2</th>\n",
       "      <td>SG-2011-0516A</td>\n",
       "      <td>SG-2011-0516A-SUM1-HL</td>\n",
       "      <td>https://ids.si.edu/ids/deliveryService?id=SG-2...</td>\n",
       "      <td>SUM1</td>\n",
       "      <td>SUM</td>\n",
       "    </tr>\n",
       "    <tr>\n",
       "      <th>3</th>\n",
       "      <td>SG-2011-0516A</td>\n",
       "      <td>SG-2011-0516A-BAR1-HL</td>\n",
       "      <td>https://ids.si.edu/ids/deliveryService?id=SG-2...</td>\n",
       "      <td>BAR1</td>\n",
       "      <td>BAR</td>\n",
       "    </tr>\n",
       "    <tr>\n",
       "      <th>4</th>\n",
       "      <td>SG-2011-0516A</td>\n",
       "      <td>SG-2011-0516A-BAR2-HL</td>\n",
       "      <td>https://ids.si.edu/ids/deliveryService?id=SG-2...</td>\n",
       "      <td>BAR2</td>\n",
       "      <td>BAR</td>\n",
       "    </tr>\n",
       "  </tbody>\n",
       "</table>\n",
       "</div>"
      ],
      "text/plain": [
       "       object_id                        ids_id  \\\n",
       "0  SG-2011-0516A  SG-2011-0516A-FAL1-HL-000003   \n",
       "1  SG-2011-0516A         SG-2011-0516A-SPR1-HL   \n",
       "2  SG-2011-0516A         SG-2011-0516A-SUM1-HL   \n",
       "3  SG-2011-0516A         SG-2011-0516A-BAR1-HL   \n",
       "4  SG-2011-0516A         SG-2011-0516A-BAR2-HL   \n",
       "\n",
       "                                           image_url image_label  \\\n",
       "0  https://ids.si.edu/ids/deliveryService?id=SG-2...        FAL1   \n",
       "1  https://ids.si.edu/ids/deliveryService?id=SG-2...        SPR1   \n",
       "2  https://ids.si.edu/ids/deliveryService?id=SG-2...        SUM1   \n",
       "3  https://ids.si.edu/ids/deliveryService?id=SG-2...        BAR1   \n",
       "4  https://ids.si.edu/ids/deliveryService?id=SG-2...        BAR2   \n",
       "\n",
       "  image_category  \n",
       "0            FAL  \n",
       "1            SPR  \n",
       "2            SUM  \n",
       "3            BAR  \n",
       "4            BAR  "
      ]
     },
     "execution_count": 5,
     "metadata": {},
     "output_type": "execute_result"
    }
   ],
   "source": [
    "image_df.head()"
   ]
  },
  {
   "cell_type": "code",
   "execution_count": 7,
   "metadata": {},
   "outputs": [
    {
     "data": {
      "text/plain": [
       "WIN    1590\n",
       "FAL    1345\n",
       "SUM    1172\n",
       "STE     845\n",
       "BAR     749\n",
       "SPR     512\n",
       "LEF     348\n",
       "BUD     328\n",
       "SNP     327\n",
       "FLO     279\n",
       "FRU     245\n",
       "LEB     226\n",
       "CON      98\n",
       "MIS      15\n",
       "HL        4\n",
       "GAL       3\n",
       "204       2\n",
       "201       2\n",
       "202       2\n",
       "203       1\n",
       "206       1\n",
       "THR       1\n",
       "SG1       1\n",
       "FUN       1\n",
       "Name: image_category, dtype: int64"
      ]
     },
     "execution_count": 7,
     "metadata": {},
     "output_type": "execute_result"
    }
   ],
   "source": [
    "image_df['image_category'].value_counts()"
   ]
  },
  {
   "cell_type": "code",
   "execution_count": 8,
   "metadata": {},
   "outputs": [
    {
     "data": {
      "text/html": [
       "<div>\n",
       "<style scoped>\n",
       "    .dataframe tbody tr th:only-of-type {\n",
       "        vertical-align: middle;\n",
       "    }\n",
       "\n",
       "    .dataframe tbody tr th {\n",
       "        vertical-align: top;\n",
       "    }\n",
       "\n",
       "    .dataframe thead th {\n",
       "        text-align: right;\n",
       "    }\n",
       "</style>\n",
       "<table border=\"1\" class=\"dataframe\">\n",
       "  <thead>\n",
       "    <tr style=\"text-align: right;\">\n",
       "      <th></th>\n",
       "      <th>accession_number</th>\n",
       "      <th>ids_id</th>\n",
       "      <th>image_url</th>\n",
       "      <th>image_label</th>\n",
       "      <th>image_category</th>\n",
       "    </tr>\n",
       "  </thead>\n",
       "  <tbody>\n",
       "    <tr>\n",
       "      <th>0</th>\n",
       "      <td>SG-2011-0516A</td>\n",
       "      <td>SG-2011-0516A-FAL1-HL-000003</td>\n",
       "      <td>https://ids.si.edu/ids/deliveryService?id=SG-2...</td>\n",
       "      <td>FAL1</td>\n",
       "      <td>FAL</td>\n",
       "    </tr>\n",
       "    <tr>\n",
       "      <th>1</th>\n",
       "      <td>SG-2011-0516A</td>\n",
       "      <td>SG-2011-0516A-SPR1-HL</td>\n",
       "      <td>https://ids.si.edu/ids/deliveryService?id=SG-2...</td>\n",
       "      <td>SPR1</td>\n",
       "      <td>SPR</td>\n",
       "    </tr>\n",
       "    <tr>\n",
       "      <th>2</th>\n",
       "      <td>SG-2011-0516A</td>\n",
       "      <td>SG-2011-0516A-SUM1-HL</td>\n",
       "      <td>https://ids.si.edu/ids/deliveryService?id=SG-2...</td>\n",
       "      <td>SUM1</td>\n",
       "      <td>SUM</td>\n",
       "    </tr>\n",
       "    <tr>\n",
       "      <th>3</th>\n",
       "      <td>SG-2011-0516A</td>\n",
       "      <td>SG-2011-0516A-BAR1-HL</td>\n",
       "      <td>https://ids.si.edu/ids/deliveryService?id=SG-2...</td>\n",
       "      <td>BAR1</td>\n",
       "      <td>BAR</td>\n",
       "    </tr>\n",
       "    <tr>\n",
       "      <th>4</th>\n",
       "      <td>SG-2011-0516A</td>\n",
       "      <td>SG-2011-0516A-BAR2-HL</td>\n",
       "      <td>https://ids.si.edu/ids/deliveryService?id=SG-2...</td>\n",
       "      <td>BAR2</td>\n",
       "      <td>BAR</td>\n",
       "    </tr>\n",
       "  </tbody>\n",
       "</table>\n",
       "</div>"
      ],
      "text/plain": [
       "  accession_number                        ids_id  \\\n",
       "0    SG-2011-0516A  SG-2011-0516A-FAL1-HL-000003   \n",
       "1    SG-2011-0516A         SG-2011-0516A-SPR1-HL   \n",
       "2    SG-2011-0516A         SG-2011-0516A-SUM1-HL   \n",
       "3    SG-2011-0516A         SG-2011-0516A-BAR1-HL   \n",
       "4    SG-2011-0516A         SG-2011-0516A-BAR2-HL   \n",
       "\n",
       "                                           image_url image_label  \\\n",
       "0  https://ids.si.edu/ids/deliveryService?id=SG-2...        FAL1   \n",
       "1  https://ids.si.edu/ids/deliveryService?id=SG-2...        SPR1   \n",
       "2  https://ids.si.edu/ids/deliveryService?id=SG-2...        SUM1   \n",
       "3  https://ids.si.edu/ids/deliveryService?id=SG-2...        BAR1   \n",
       "4  https://ids.si.edu/ids/deliveryService?id=SG-2...        BAR2   \n",
       "\n",
       "  image_category  \n",
       "0            FAL  \n",
       "1            SPR  \n",
       "2            SUM  \n",
       "3            BAR  \n",
       "4            BAR  "
      ]
     },
     "execution_count": 8,
     "metadata": {},
     "output_type": "execute_result"
    }
   ],
   "source": [
    "image_df = image_df.rename(columns={'object_id':'accession_number'})\n",
    "image_df.head()"
   ]
  },
  {
   "cell_type": "code",
   "execution_count": 9,
   "metadata": {},
   "outputs": [
    {
     "data": {
      "text/plain": [
       "1702"
      ]
     },
     "execution_count": 9,
     "metadata": {},
     "output_type": "execute_result"
    }
   ],
   "source": [
    "image_df['accession_number'].nunique()"
   ]
  },
  {
   "cell_type": "code",
   "execution_count": 10,
   "metadata": {},
   "outputs": [
    {
     "data": {
      "text/html": [
       "<div>\n",
       "<style scoped>\n",
       "    .dataframe tbody tr th:only-of-type {\n",
       "        vertical-align: middle;\n",
       "    }\n",
       "\n",
       "    .dataframe tbody tr th {\n",
       "        vertical-align: top;\n",
       "    }\n",
       "\n",
       "    .dataframe thead th {\n",
       "        text-align: right;\n",
       "    }\n",
       "</style>\n",
       "<table border=\"1\" class=\"dataframe\">\n",
       "  <thead>\n",
       "    <tr style=\"text-align: right;\">\n",
       "      <th></th>\n",
       "      <th>accession_number</th>\n",
       "      <th>ids_id</th>\n",
       "      <th>image_category</th>\n",
       "    </tr>\n",
       "  </thead>\n",
       "  <tbody>\n",
       "    <tr>\n",
       "      <th>0</th>\n",
       "      <td>SG-2011-0516A</td>\n",
       "      <td>SG-2011-0516A-FAL1-HL-000003</td>\n",
       "      <td>FAL</td>\n",
       "    </tr>\n",
       "    <tr>\n",
       "      <th>1</th>\n",
       "      <td>SG-2011-0516A</td>\n",
       "      <td>SG-2011-0516A-SPR1-HL</td>\n",
       "      <td>SPR</td>\n",
       "    </tr>\n",
       "    <tr>\n",
       "      <th>2</th>\n",
       "      <td>SG-2011-0516A</td>\n",
       "      <td>SG-2011-0516A-SUM1-HL</td>\n",
       "      <td>SUM</td>\n",
       "    </tr>\n",
       "    <tr>\n",
       "      <th>3</th>\n",
       "      <td>SG-2011-0516A</td>\n",
       "      <td>SG-2011-0516A-BAR1-HL</td>\n",
       "      <td>BAR</td>\n",
       "    </tr>\n",
       "    <tr>\n",
       "      <th>4</th>\n",
       "      <td>SG-2011-0516A</td>\n",
       "      <td>SG-2011-0516A-BAR2-HL</td>\n",
       "      <td>BAR</td>\n",
       "    </tr>\n",
       "  </tbody>\n",
       "</table>\n",
       "</div>"
      ],
      "text/plain": [
       "  accession_number                        ids_id image_category\n",
       "0    SG-2011-0516A  SG-2011-0516A-FAL1-HL-000003            FAL\n",
       "1    SG-2011-0516A         SG-2011-0516A-SPR1-HL            SPR\n",
       "2    SG-2011-0516A         SG-2011-0516A-SUM1-HL            SUM\n",
       "3    SG-2011-0516A         SG-2011-0516A-BAR1-HL            BAR\n",
       "4    SG-2011-0516A         SG-2011-0516A-BAR2-HL            BAR"
      ]
     },
     "execution_count": 10,
     "metadata": {},
     "output_type": "execute_result"
    }
   ],
   "source": [
    "image_df = image_df[['accession_number','ids_id','image_category']]\n",
    "image_df.head()"
   ]
  },
  {
   "cell_type": "code",
   "execution_count": 22,
   "metadata": {},
   "outputs": [],
   "source": [
    "con = sqlite3.connect(\"si_garden_trees.db\")"
   ]
  },
  {
   "cell_type": "code",
   "execution_count": 19,
   "metadata": {},
   "outputs": [],
   "source": [
    "tree_df.to_sql('tree_metadata', con, if_exists='replace',index=False, index_label='accession_number')"
   ]
  },
  {
   "cell_type": "code",
   "execution_count": 20,
   "metadata": {},
   "outputs": [],
   "source": [
    "image_df.to_sql('tree_images', con, if_exists='replace', index=False)"
   ]
  },
  {
   "cell_type": "code",
   "execution_count": 21,
   "metadata": {},
   "outputs": [],
   "source": [
    "con.close()"
   ]
  },
  {
   "cell_type": "code",
   "execution_count": 31,
   "metadata": {},
   "outputs": [
    {
     "data": {
      "text/plain": [
       "0"
      ]
     },
     "execution_count": 31,
     "metadata": {},
     "output_type": "execute_result"
    }
   ],
   "source": [
    "cur = con.cursor()\n",
    "cur.execute('SELECT COUNT(DISTINCT accession_number) FROM tree_annotations')\n",
    "result = cur.fetchone()\n",
    "result[0]"
   ]
  },
  {
   "cell_type": "code",
   "execution_count": 26,
   "metadata": {},
   "outputs": [
    {
     "ename": "TypeError",
     "evalue": "'builtin_function_or_method' object is not subscriptable",
     "output_type": "error",
     "traceback": [
      "\u001b[0;31m---------------------------------------------------------------------------\u001b[0m",
      "\u001b[0;31mTypeError\u001b[0m                                 Traceback (most recent call last)",
      "\u001b[0;32m/var/folders/jm/92kt_z390bs7yw60cx0dbbdc0000gp/T/ipykernel_43570/628681454.py\u001b[0m in \u001b[0;36m<module>\u001b[0;34m\u001b[0m\n\u001b[0;32m----> 1\u001b[0;31m \u001b[0mresult\u001b[0m\u001b[0;34m[\u001b[0m\u001b[0;34m'annotation_count'\u001b[0m\u001b[0;34m]\u001b[0m\u001b[0;34m\u001b[0m\u001b[0;34m\u001b[0m\u001b[0m\n\u001b[0m",
      "\u001b[0;31mTypeError\u001b[0m: 'builtin_function_or_method' object is not subscriptable"
     ]
    }
   ],
   "source": [
    "result['annotation_count']"
   ]
  },
  {
   "cell_type": "code",
   "execution_count": null,
   "metadata": {},
   "outputs": [],
   "source": []
  }
 ],
 "metadata": {
  "kernelspec": {
   "display_name": "Python 3 (ipykernel)",
   "language": "python",
   "name": "python3"
  },
  "language_info": {
   "codemirror_mode": {
    "name": "ipython",
    "version": 3
   },
   "file_extension": ".py",
   "mimetype": "text/x-python",
   "name": "python",
   "nbconvert_exporter": "python",
   "pygments_lexer": "ipython3",
   "version": "3.9.6"
  }
 },
 "nbformat": 4,
 "nbformat_minor": 4
}
