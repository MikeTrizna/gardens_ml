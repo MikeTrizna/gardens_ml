{
 "cells": [
  {
   "cell_type": "code",
   "execution_count": 1,
   "metadata": {
    "ExecuteTime": {
     "end_time": "2020-12-29T18:45:11.310308Z",
     "start_time": "2020-12-29T18:45:11.118639Z"
    }
   },
   "outputs": [],
   "source": [
    "import requests\n",
    "import io\n",
    "import json\n",
    "import xmltodict\n",
    "from wand.image import Image"
   ]
  },
  {
   "cell_type": "code",
   "execution_count": 3,
   "metadata": {
    "ExecuteTime": {
     "end_time": "2020-12-29T19:02:29.579228Z",
     "start_time": "2020-12-29T19:02:28.905746Z"
    }
   },
   "outputs": [
    {
     "name": "stdout",
     "output_type": "stream",
     "text": [
      "original size = (1334, 2000)\n",
      "resized size = (334, 500)\n"
     ]
    }
   ],
   "source": [
    "thumb_size = (500,500)\n",
    "image_url = 'https://ids.si.edu/ids/deliveryService?id=SG-2011-0001A-FAL1-HL-000002'\n",
    "\n",
    "r = requests.get(image_url, timeout=60)\n",
    "with Image(file=io.BytesIO(r.content)) as img:\n",
    "    print('original size =', img.size)\n",
    "    photoshop_meta = xmltodict.parse(img.profiles['XMP'])\n",
    "    img.transform(resize ='500x500') \n",
    "    print('resized size =', img.size)\n",
    "    img.save(filename ='wand_thumbnail.jpg') "
   ]
  },
  {
   "cell_type": "code",
   "execution_count": null,
   "metadata": {},
   "outputs": [],
   "source": []
  }
 ],
 "metadata": {
  "kernelspec": {
   "display_name": "Python 3",
   "language": "python",
   "name": "python3"
  },
  "language_info": {
   "codemirror_mode": {
    "name": "ipython",
    "version": 3
   },
   "file_extension": ".py",
   "mimetype": "text/x-python",
   "name": "python",
   "nbconvert_exporter": "python",
   "pygments_lexer": "ipython3",
   "version": "3.8.5"
  }
 },
 "nbformat": 4,
 "nbformat_minor": 4
}
