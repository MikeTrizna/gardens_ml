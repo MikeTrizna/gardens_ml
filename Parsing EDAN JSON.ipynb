{
 "cells": [
  {
   "cell_type": "code",
   "execution_count": 1,
   "metadata": {
    "ExecuteTime": {
     "end_time": "2020-12-22T15:43:59.864376Z",
     "start_time": "2020-12-22T15:43:58.574312Z"
    }
   },
   "outputs": [],
   "source": [
    "import json\n",
    "import pandas as pd"
   ]
  },
  {
   "cell_type": "code",
   "execution_count": 2,
   "metadata": {
    "ExecuteTime": {
     "end_time": "2020-12-22T15:45:20.199122Z",
     "start_time": "2020-12-22T15:45:20.030171Z"
    }
   },
   "outputs": [
    {
     "data": {
      "text/plain": [
       "1702"
      ]
     },
     "execution_count": 2,
     "metadata": {},
     "output_type": "execute_result"
    }
   ],
   "source": [
    "with open('garden_edan_trees.json','r') as json_in:\n",
    "    garden_json = json.load(json_in)\n",
    "len(garden_json)"
   ]
  },
  {
   "cell_type": "code",
   "execution_count": 14,
   "metadata": {
    "ExecuteTime": {
     "end_time": "2020-12-22T15:56:27.039256Z",
     "start_time": "2020-12-22T15:56:27.034393Z"
    }
   },
   "outputs": [
    {
     "name": "stdout",
     "output_type": "stream",
     "text": [
      "{\n",
      "  \"id\": \"edanmdm-ofeo-sg_2011-0917A\",\n",
      "  \"title\": \"Ulmus americana\",\n",
      "  \"unitCode\": \"OFEO-SG\",\n",
      "  \"linkedId\": \"0\",\n",
      "  \"type\": \"edanmdm\",\n",
      "  \"url\": \"edanmdm:ofeo-sg_2011-0917A\",\n",
      "  \"content\": {\n",
      "    \"descriptiveNonRepeating\": {\n",
      "      \"record_ID\": \"ofeo-sg_2011-0917A\",\n",
      "      \"online_media\": {\n",
      "        \"mediaCount\": 5,\n",
      "        \"media\": [\n",
      "          {\n",
      "            \"thumbnail\": \"https://ids.si.edu/ids/deliveryService?id=SG-2011-0917A-FAL1-HL\",\n",
      "            \"idsId\": \"SG-2011-0917A-FAL1-HL\",\n",
      "            \"usage\": {\n",
      "              \"access\": \"Usage conditions apply\",\n",
      "              \"text\": \"\"\n",
      "            },\n",
      "            \"caption\": \"Photographed by: Hannele Lahti\",\n",
      "            \"type\": \"Images\",\n",
      "            \"content\": \"https://ids.si.edu/ids/deliveryService?id=SG-2011-0917A-FAL1-HL\"\n",
      "          },\n",
      "          {\n",
      "            \"thumbnail\": \"https://ids.si.edu/ids/deliveryService?id=SG-2011-0917A-SPR1-HL\",\n",
      "            \"idsId\": \"SG-2011-0917A-SPR1-HL\",\n",
      "            \"usage\": {\n",
      "              \"access\": \"Usage conditions apply\",\n",
      "              \"text\": \"\"\n",
      "            },\n",
      "            \"caption\": \"Photographed by: Hannele Lahti\",\n",
      "            \"type\": \"Images\",\n",
      "            \"content\": \"https://ids.si.edu/ids/deliveryService?id=SG-2011-0917A-SPR1-HL\"\n",
      "          },\n",
      "          {\n",
      "            \"thumbnail\": \"https://ids.si.edu/ids/deliveryService?id=SG-2011-0917A-SUM1-HL\",\n",
      "            \"idsId\": \"SG-2011-0917A-SUM1-HL\",\n",
      "            \"usage\": {\n",
      "              \"access\": \"Usage conditions apply\",\n",
      "              \"text\": \"\"\n",
      "            },\n",
      "            \"caption\": \"Photographed by: Hannele Lahti\",\n",
      "            \"type\": \"Images\",\n",
      "            \"content\": \"https://ids.si.edu/ids/deliveryService?id=SG-2011-0917A-SUM1-HL\"\n",
      "          },\n",
      "          {\n",
      "            \"thumbnail\": \"https://ids.si.edu/ids/deliveryService?id=SG-2011-0917A-WIN1-HL\",\n",
      "            \"idsId\": \"SG-2011-0917A-WIN1-HL\",\n",
      "            \"usage\": {\n",
      "              \"access\": \"Usage conditions apply\",\n",
      "              \"text\": \"\"\n",
      "            },\n",
      "            \"caption\": \"Photographed by: Hannele Lahti\",\n",
      "            \"type\": \"Images\",\n",
      "            \"content\": \"https://ids.si.edu/ids/deliveryService?id=SG-2011-0917A-WIN1-HL\"\n",
      "          },\n",
      "          {\n",
      "            \"thumbnail\": \"https://ids.si.edu/ids/deliveryService?id=SG-2011-0917A-BAR1-HL\",\n",
      "            \"idsId\": \"SG-2011-0917A-BAR1-HL\",\n",
      "            \"usage\": {\n",
      "              \"access\": \"Usage conditions apply\",\n",
      "              \"text\": \"\"\n",
      "            },\n",
      "            \"caption\": \"Photographed by: Hannele Lahti\",\n",
      "            \"type\": \"Images\",\n",
      "            \"content\": \"https://ids.si.edu/ids/deliveryService?id=SG-2011-0917A-BAR1-HL\"\n",
      "          }\n",
      "        ]\n",
      "      },\n",
      "      \"unit_code\": \"OFEO-SG\",\n",
      "      \"title_sort\": \"ULMUS AMERICANA\",\n",
      "      \"title\": {\n",
      "        \"label\": \"Title\",\n",
      "        \"content\": \"Ulmus americana\"\n",
      "      },\n",
      "      \"metadata_usage\": {\n",
      "        \"access\": \"Usage conditions apply\",\n",
      "        \"text\": \"\"\n",
      "      },\n",
      "      \"data_source\": \"Smithsonian Gardens\"\n",
      "    },\n",
      "    \"indexedStructured\": {\n",
      "      \"exhibition\": [\n",
      "        {\n",
      "          \"building\": \"NMNH\"\n",
      "        }\n",
      "      ],\n",
      "      \"tax_family\": [\n",
      "        \"Ulmaceae\"\n",
      "      ],\n",
      "      \"object_type\": [\n",
      "        \"Living botanical specimens\"\n",
      "      ],\n",
      "      \"tax_class\": [\n",
      "        \"Equisetopsida\"\n",
      "      ],\n",
      "      \"tax_order\": [\n",
      "        \"Rosales\"\n",
      "      ],\n",
      "      \"onPhysicalExhibit\": [\n",
      "        \"Yes\"\n",
      "      ],\n",
      "      \"topic\": [\n",
      "        \"Trees\",\n",
      "        \"Botany\",\n",
      "        \"Plants\"\n",
      "      ],\n",
      "      \"scientific_name\": [\n",
      "        \"Ulmus americana\"\n",
      "      ],\n",
      "      \"common_name\": [\n",
      "        \"American Elm\",\n",
      "        \"White Elm\"\n",
      "      ],\n",
      "      \"online_media_type\": [\n",
      "        \"Images\"\n",
      "      ]\n",
      "    },\n",
      "    \"freetext\": {\n",
      "      \"setName\": [\n",
      "        {\n",
      "          \"label\": \"See more items in\",\n",
      "          \"content\": \"Smithsonian Gardens Tree Collection\"\n",
      "        },\n",
      "        {\n",
      "          \"label\": \"On Display\",\n",
      "          \"content\": \"National Museum of Natural History\"\n",
      "        }\n",
      "      ],\n",
      "      \"identifier\": [\n",
      "        {\n",
      "          \"label\": \"Accession Number\",\n",
      "          \"content\": \"2011-0917A\"\n",
      "        }\n",
      "      ],\n",
      "      \"notes\": [\n",
      "        {\n",
      "          \"label\": \"Provenance\",\n",
      "          \"content\": \"Uncertain\"\n",
      "        },\n",
      "        {\n",
      "          \"label\": \"Life Form\",\n",
      "          \"content\": \"Deciduous tree\"\n",
      "        }\n",
      "      ],\n",
      "      \"topic\": [\n",
      "        {\n",
      "          \"label\": \"Topic\",\n",
      "          \"content\": \"Trees\"\n",
      "        }\n",
      "      ],\n",
      "      \"place\": [\n",
      "        {\n",
      "          \"label\": \"Range\",\n",
      "          \"content\": \"E. US to Texas and Dakotas; E. Canada\"\n",
      "        }\n",
      "      ],\n",
      "      \"physicalDescription\": [\n",
      "        {\n",
      "          \"label\": \"Flower Color\",\n",
      "          \"content\": \"Green\"\n",
      "        }\n",
      "      ],\n",
      "      \"dataSource\": [\n",
      "        {\n",
      "          \"label\": \"Data Source\",\n",
      "          \"content\": \"Smithsonian Gardens\"\n",
      "        }\n",
      "      ],\n",
      "      \"taxonomicName\": [\n",
      "        {\n",
      "          \"label\": \"Common Name\",\n",
      "          \"content\": \"American Elm\"\n",
      "        },\n",
      "        {\n",
      "          \"label\": \"Common Name\",\n",
      "          \"content\": \"White Elm\"\n",
      "        },\n",
      "        {\n",
      "          \"label\": \"Group\",\n",
      "          \"content\": \"[vascular plants]\"\n",
      "        },\n",
      "        {\n",
      "          \"label\": \"Class\",\n",
      "          \"content\": \"Equisetopsida\"\n",
      "        },\n",
      "        {\n",
      "          \"label\": \"Subclass\",\n",
      "          \"content\": \"Magnoliidae\"\n",
      "        },\n",
      "        {\n",
      "          \"label\": \"Superorder\",\n",
      "          \"content\": \"Rosanae\"\n",
      "        },\n",
      "        {\n",
      "          \"label\": \"Order\",\n",
      "          \"content\": \"Rosales\"\n",
      "        },\n",
      "        {\n",
      "          \"label\": \"Family\",\n",
      "          \"content\": \"Ulmaceae\"\n",
      "        },\n",
      "        {\n",
      "          \"label\": \"Genus\",\n",
      "          \"content\": \"Ulmus\"\n",
      "        },\n",
      "        {\n",
      "          \"label\": \"Species\",\n",
      "          \"content\": \"americana\"\n",
      "        }\n",
      "      ]\n",
      "    }\n",
      "  },\n",
      "  \"hash\": \"318dde6f2b6036deecf92087c704d69b1880a1a3\",\n",
      "  \"docSignature\": \"9a510c5add96473bfdc706847e85963612c46a41_b775fb25107fb6e3d2e4409048509c17\",\n",
      "  \"timestamp\": \"1598344476\",\n",
      "  \"lastTimeUpdated\": \"1598344474\",\n",
      "  \"status\": 0,\n",
      "  \"version\": \"\",\n",
      "  \"publicSearch\": true,\n",
      "  \"linkedContent\": {}\n",
      "}\n"
     ]
    }
   ],
   "source": [
    "print(json.dumps(garden_json[119], indent=2))"
   ]
  },
  {
   "cell_type": "code",
   "execution_count": 61,
   "metadata": {
    "ExecuteTime": {
     "end_time": "2020-12-22T16:23:50.803563Z",
     "start_time": "2020-12-22T16:23:50.798763Z"
    }
   },
   "outputs": [],
   "source": [
    "def extract_images(record):\n",
    "    object_id = record['id']\n",
    "    image_list = []\n",
    "    if 'online_media' in record['content']['descriptiveNonRepeating']:\n",
    "        images = record['content']['descriptiveNonRepeating']['online_media']['media']\n",
    "        for image in images:\n",
    "            image_dict = {'object_id':object_id}\n",
    "            image_dict['ids_id'] = image['idsId']\n",
    "            image_dict['image_url'] = image['content']\n",
    "            image_list.append(image_dict)\n",
    "    return image_list        "
   ]
  },
  {
   "cell_type": "code",
   "execution_count": 62,
   "metadata": {
    "ExecuteTime": {
     "end_time": "2020-12-22T16:23:51.751476Z",
     "start_time": "2020-12-22T16:23:51.739991Z"
    }
   },
   "outputs": [],
   "source": [
    "def flatten(record):\n",
    "    record_dict = {}\n",
    "    record_dict['object_id'] = record['id']\n",
    "    record_dict['title'] = record['title']\n",
    "    record_dict['unit_code'] = record['unitCode']\n",
    "    if 'online_media' in record['content']['descriptiveNonRepeating']:\n",
    "        record_dict['media_count'] = record['content']['descriptiveNonRepeating']['online_media']['mediaCount']\n",
    "    if 'freetext' in record['content']:\n",
    "        if 'identifier' in record['content']['freetext']:\n",
    "            for identifier in record['content']['freetext']['identifier']:\n",
    "                key = identifier['label']\n",
    "                value = identifier['content']\n",
    "                record_dict[key] = value\n",
    "        if 'notes' in record['content']['freetext']:\n",
    "            for note in record['content']['freetext']['notes']:\n",
    "                key = note['label']\n",
    "                value = note['content']\n",
    "                record_dict[key] = value\n",
    "        if 'physicalDescription' in record['content']['freetext']:\n",
    "            for pd in record['content']['freetext']['physicalDescription']:\n",
    "                key = pd['label']\n",
    "                value = pd['content']\n",
    "                record_dict[key] = value\n",
    "    if 'indexedStructured' in record['content']:\n",
    "        if 'common_name' in record['content']['indexedStructured']:\n",
    "            record_dict['common_name'] = ','.join(record['content']['indexedStructured']['common_name'])\n",
    "        if 'scientific_name' in record['content']['indexedStructured']:\n",
    "            record_dict['scientific_name'] = ','.join(record['content']['indexedStructured']['scientific_name'])\n",
    "        if 'exhibition' in record['content']['indexedStructured']:\n",
    "            for k_v in record['content']['indexedStructured']['exhibition']:\n",
    "                for key, value in k_v.items():\n",
    "                    record_dict[key] = value\n",
    "    return record_dict"
   ]
  },
  {
   "cell_type": "code",
   "execution_count": 63,
   "metadata": {
    "ExecuteTime": {
     "end_time": "2020-12-22T16:23:52.470740Z",
     "start_time": "2020-12-22T16:23:52.440048Z"
    }
   },
   "outputs": [
    {
     "data": {
      "text/html": [
       "<div>\n",
       "<style scoped>\n",
       "    .dataframe tbody tr th:only-of-type {\n",
       "        vertical-align: middle;\n",
       "    }\n",
       "\n",
       "    .dataframe tbody tr th {\n",
       "        vertical-align: top;\n",
       "    }\n",
       "\n",
       "    .dataframe thead th {\n",
       "        text-align: right;\n",
       "    }\n",
       "</style>\n",
       "<table border=\"1\" class=\"dataframe\">\n",
       "  <thead>\n",
       "    <tr style=\"text-align: right;\">\n",
       "      <th></th>\n",
       "      <th>object_id</th>\n",
       "      <th>title</th>\n",
       "      <th>unit_code</th>\n",
       "      <th>media_count</th>\n",
       "      <th>Accession Number</th>\n",
       "      <th>Provenance</th>\n",
       "      <th>Life Form</th>\n",
       "      <th>Flower Color</th>\n",
       "      <th>common_name</th>\n",
       "      <th>scientific_name</th>\n",
       "      <th>building</th>\n",
       "      <th>Parentage</th>\n",
       "    </tr>\n",
       "  </thead>\n",
       "  <tbody>\n",
       "    <tr>\n",
       "      <th>0</th>\n",
       "      <td>edanmdm-ofeo-sg_2011-0516A</td>\n",
       "      <td>Prunus subhirtella 'Pendula'</td>\n",
       "      <td>OFEO-SG</td>\n",
       "      <td>5</td>\n",
       "      <td>2011-0516A</td>\n",
       "      <td>Uncertain</td>\n",
       "      <td>Deciduous tree</td>\n",
       "      <td>Pink</td>\n",
       "      <td>Weeping Higan Cherry</td>\n",
       "      <td>Prunus subhirtella</td>\n",
       "      <td>NaN</td>\n",
       "      <td>NaN</td>\n",
       "    </tr>\n",
       "    <tr>\n",
       "      <th>1</th>\n",
       "      <td>edanmdm-ofeo-sg_2011-0569A</td>\n",
       "      <td>Tilia cordata 'June Bride'</td>\n",
       "      <td>OFEO-SG</td>\n",
       "      <td>20</td>\n",
       "      <td>2011-0569A</td>\n",
       "      <td>Uncertain</td>\n",
       "      <td>Deciduous tree</td>\n",
       "      <td>Yellow</td>\n",
       "      <td>June Bride Littleleaf Linden</td>\n",
       "      <td>Tilia cordata</td>\n",
       "      <td>NaN</td>\n",
       "      <td>NaN</td>\n",
       "    </tr>\n",
       "    <tr>\n",
       "      <th>2</th>\n",
       "      <td>edanmdm-ofeo-sg_2011-1259A</td>\n",
       "      <td>Prunus subhirtella 'Pendula'</td>\n",
       "      <td>OFEO-SG</td>\n",
       "      <td>5</td>\n",
       "      <td>2011-1259A</td>\n",
       "      <td>Uncertain</td>\n",
       "      <td>Deciduous tree</td>\n",
       "      <td>Pink</td>\n",
       "      <td>Weeping Higan Cherry</td>\n",
       "      <td>Prunus subhirtella</td>\n",
       "      <td>NASM</td>\n",
       "      <td>NaN</td>\n",
       "    </tr>\n",
       "    <tr>\n",
       "      <th>3</th>\n",
       "      <td>edanmdm-ofeo-sg_2011-1257A</td>\n",
       "      <td>Prunus subhirtella 'Pendula'</td>\n",
       "      <td>OFEO-SG</td>\n",
       "      <td>4</td>\n",
       "      <td>2011-1257A</td>\n",
       "      <td>Uncertain</td>\n",
       "      <td>Deciduous tree</td>\n",
       "      <td>Pink</td>\n",
       "      <td>Weeping Higan Cherry</td>\n",
       "      <td>Prunus subhirtella</td>\n",
       "      <td>NASM</td>\n",
       "      <td>NaN</td>\n",
       "    </tr>\n",
       "    <tr>\n",
       "      <th>4</th>\n",
       "      <td>edanmdm-ofeo-sg_2014-1217A</td>\n",
       "      <td>Betula papyrifera 'Renci' Renaissance Reflection</td>\n",
       "      <td>OFEO-SG</td>\n",
       "      <td>8</td>\n",
       "      <td>2014-1217A</td>\n",
       "      <td>From a cultivated plant not of known wild origin</td>\n",
       "      <td>Deciduous tree</td>\n",
       "      <td>NaN</td>\n",
       "      <td>Paper birch,White birch,Canoe birch,Renaissanc...</td>\n",
       "      <td>Betula papyrifera</td>\n",
       "      <td>NMNH</td>\n",
       "      <td>NaN</td>\n",
       "    </tr>\n",
       "  </tbody>\n",
       "</table>\n",
       "</div>"
      ],
      "text/plain": [
       "                    object_id  \\\n",
       "0  edanmdm-ofeo-sg_2011-0516A   \n",
       "1  edanmdm-ofeo-sg_2011-0569A   \n",
       "2  edanmdm-ofeo-sg_2011-1259A   \n",
       "3  edanmdm-ofeo-sg_2011-1257A   \n",
       "4  edanmdm-ofeo-sg_2014-1217A   \n",
       "\n",
       "                                              title unit_code  media_count  \\\n",
       "0                      Prunus subhirtella 'Pendula'   OFEO-SG            5   \n",
       "1                        Tilia cordata 'June Bride'   OFEO-SG           20   \n",
       "2                      Prunus subhirtella 'Pendula'   OFEO-SG            5   \n",
       "3                      Prunus subhirtella 'Pendula'   OFEO-SG            4   \n",
       "4  Betula papyrifera 'Renci' Renaissance Reflection   OFEO-SG            8   \n",
       "\n",
       "  Accession Number                                        Provenance  \\\n",
       "0       2011-0516A                                         Uncertain   \n",
       "1       2011-0569A                                         Uncertain   \n",
       "2       2011-1259A                                         Uncertain   \n",
       "3       2011-1257A                                         Uncertain   \n",
       "4       2014-1217A  From a cultivated plant not of known wild origin   \n",
       "\n",
       "        Life Form Flower Color  \\\n",
       "0  Deciduous tree         Pink   \n",
       "1  Deciduous tree       Yellow   \n",
       "2  Deciduous tree         Pink   \n",
       "3  Deciduous tree         Pink   \n",
       "4  Deciduous tree          NaN   \n",
       "\n",
       "                                         common_name     scientific_name  \\\n",
       "0                               Weeping Higan Cherry  Prunus subhirtella   \n",
       "1                       June Bride Littleleaf Linden       Tilia cordata   \n",
       "2                               Weeping Higan Cherry  Prunus subhirtella   \n",
       "3                               Weeping Higan Cherry  Prunus subhirtella   \n",
       "4  Paper birch,White birch,Canoe birch,Renaissanc...   Betula papyrifera   \n",
       "\n",
       "  building Parentage  \n",
       "0      NaN       NaN  \n",
       "1      NaN       NaN  \n",
       "2     NASM       NaN  \n",
       "3     NASM       NaN  \n",
       "4     NMNH       NaN  "
      ]
     },
     "execution_count": 63,
     "metadata": {},
     "output_type": "execute_result"
    }
   ],
   "source": [
    "flattened_records = [flatten(r) for r in garden_json]\n",
    "garden_df = pd.DataFrame(flattened_records)\n",
    "garden_df.head()"
   ]
  },
  {
   "cell_type": "code",
   "execution_count": 64,
   "metadata": {
    "ExecuteTime": {
     "end_time": "2020-12-22T16:23:53.521301Z",
     "start_time": "2020-12-22T16:23:53.510443Z"
    }
   },
   "outputs": [
    {
     "data": {
      "text/plain": [
       "8097"
      ]
     },
     "execution_count": 64,
     "metadata": {},
     "output_type": "execute_result"
    }
   ],
   "source": [
    "garden_images = []\n",
    "for record in garden_json:\n",
    "    record_images = extract_images(record)\n",
    "    garden_images += record_images\n",
    "len(garden_images)"
   ]
  },
  {
   "cell_type": "code",
   "execution_count": 65,
   "metadata": {
    "ExecuteTime": {
     "end_time": "2020-12-22T16:23:54.561274Z",
     "start_time": "2020-12-22T16:23:54.544502Z"
    }
   },
   "outputs": [
    {
     "data": {
      "text/html": [
       "<div>\n",
       "<style scoped>\n",
       "    .dataframe tbody tr th:only-of-type {\n",
       "        vertical-align: middle;\n",
       "    }\n",
       "\n",
       "    .dataframe tbody tr th {\n",
       "        vertical-align: top;\n",
       "    }\n",
       "\n",
       "    .dataframe thead th {\n",
       "        text-align: right;\n",
       "    }\n",
       "</style>\n",
       "<table border=\"1\" class=\"dataframe\">\n",
       "  <thead>\n",
       "    <tr style=\"text-align: right;\">\n",
       "      <th></th>\n",
       "      <th>object_id</th>\n",
       "      <th>ids_id</th>\n",
       "      <th>image_url</th>\n",
       "    </tr>\n",
       "  </thead>\n",
       "  <tbody>\n",
       "    <tr>\n",
       "      <th>0</th>\n",
       "      <td>edanmdm-ofeo-sg_2011-0516A</td>\n",
       "      <td>SG-2011-0516A-FAL1-HL-000003</td>\n",
       "      <td>https://ids.si.edu/ids/deliveryService?id=SG-2...</td>\n",
       "    </tr>\n",
       "    <tr>\n",
       "      <th>1</th>\n",
       "      <td>edanmdm-ofeo-sg_2011-0516A</td>\n",
       "      <td>SG-2011-0516A-SPR1-HL</td>\n",
       "      <td>https://ids.si.edu/ids/deliveryService?id=SG-2...</td>\n",
       "    </tr>\n",
       "    <tr>\n",
       "      <th>2</th>\n",
       "      <td>edanmdm-ofeo-sg_2011-0516A</td>\n",
       "      <td>SG-2011-0516A-SUM1-HL</td>\n",
       "      <td>https://ids.si.edu/ids/deliveryService?id=SG-2...</td>\n",
       "    </tr>\n",
       "    <tr>\n",
       "      <th>3</th>\n",
       "      <td>edanmdm-ofeo-sg_2011-0516A</td>\n",
       "      <td>SG-2011-0516A-BAR1-HL</td>\n",
       "      <td>https://ids.si.edu/ids/deliveryService?id=SG-2...</td>\n",
       "    </tr>\n",
       "    <tr>\n",
       "      <th>4</th>\n",
       "      <td>edanmdm-ofeo-sg_2011-0516A</td>\n",
       "      <td>SG-2011-0516A-BAR2-HL</td>\n",
       "      <td>https://ids.si.edu/ids/deliveryService?id=SG-2...</td>\n",
       "    </tr>\n",
       "  </tbody>\n",
       "</table>\n",
       "</div>"
      ],
      "text/plain": [
       "                    object_id                        ids_id  \\\n",
       "0  edanmdm-ofeo-sg_2011-0516A  SG-2011-0516A-FAL1-HL-000003   \n",
       "1  edanmdm-ofeo-sg_2011-0516A         SG-2011-0516A-SPR1-HL   \n",
       "2  edanmdm-ofeo-sg_2011-0516A         SG-2011-0516A-SUM1-HL   \n",
       "3  edanmdm-ofeo-sg_2011-0516A         SG-2011-0516A-BAR1-HL   \n",
       "4  edanmdm-ofeo-sg_2011-0516A         SG-2011-0516A-BAR2-HL   \n",
       "\n",
       "                                           image_url  \n",
       "0  https://ids.si.edu/ids/deliveryService?id=SG-2...  \n",
       "1  https://ids.si.edu/ids/deliveryService?id=SG-2...  \n",
       "2  https://ids.si.edu/ids/deliveryService?id=SG-2...  \n",
       "3  https://ids.si.edu/ids/deliveryService?id=SG-2...  \n",
       "4  https://ids.si.edu/ids/deliveryService?id=SG-2...  "
      ]
     },
     "execution_count": 65,
     "metadata": {},
     "output_type": "execute_result"
    }
   ],
   "source": [
    "images_df = pd.DataFrame(garden_images)\n",
    "images_df.head()"
   ]
  },
  {
   "cell_type": "code",
   "execution_count": 68,
   "metadata": {
    "ExecuteTime": {
     "end_time": "2020-12-22T16:32:29.037995Z",
     "start_time": "2020-12-22T16:32:29.006738Z"
    }
   },
   "outputs": [
    {
     "data": {
      "text/html": [
       "<div>\n",
       "<style scoped>\n",
       "    .dataframe tbody tr th:only-of-type {\n",
       "        vertical-align: middle;\n",
       "    }\n",
       "\n",
       "    .dataframe tbody tr th {\n",
       "        vertical-align: top;\n",
       "    }\n",
       "\n",
       "    .dataframe thead th {\n",
       "        text-align: right;\n",
       "    }\n",
       "</style>\n",
       "<table border=\"1\" class=\"dataframe\">\n",
       "  <thead>\n",
       "    <tr style=\"text-align: right;\">\n",
       "      <th></th>\n",
       "      <th>object_id</th>\n",
       "      <th>ids_id</th>\n",
       "      <th>image_url</th>\n",
       "      <th>image_label</th>\n",
       "    </tr>\n",
       "  </thead>\n",
       "  <tbody>\n",
       "    <tr>\n",
       "      <th>0</th>\n",
       "      <td>edanmdm-ofeo-sg_2011-0516A</td>\n",
       "      <td>SG-2011-0516A-FAL1-HL-000003</td>\n",
       "      <td>https://ids.si.edu/ids/deliveryService?id=SG-2...</td>\n",
       "      <td>FAL1</td>\n",
       "    </tr>\n",
       "    <tr>\n",
       "      <th>1</th>\n",
       "      <td>edanmdm-ofeo-sg_2011-0516A</td>\n",
       "      <td>SG-2011-0516A-SPR1-HL</td>\n",
       "      <td>https://ids.si.edu/ids/deliveryService?id=SG-2...</td>\n",
       "      <td>SPR1</td>\n",
       "    </tr>\n",
       "    <tr>\n",
       "      <th>2</th>\n",
       "      <td>edanmdm-ofeo-sg_2011-0516A</td>\n",
       "      <td>SG-2011-0516A-SUM1-HL</td>\n",
       "      <td>https://ids.si.edu/ids/deliveryService?id=SG-2...</td>\n",
       "      <td>SUM1</td>\n",
       "    </tr>\n",
       "    <tr>\n",
       "      <th>3</th>\n",
       "      <td>edanmdm-ofeo-sg_2011-0516A</td>\n",
       "      <td>SG-2011-0516A-BAR1-HL</td>\n",
       "      <td>https://ids.si.edu/ids/deliveryService?id=SG-2...</td>\n",
       "      <td>BAR1</td>\n",
       "    </tr>\n",
       "    <tr>\n",
       "      <th>4</th>\n",
       "      <td>edanmdm-ofeo-sg_2011-0516A</td>\n",
       "      <td>SG-2011-0516A-BAR2-HL</td>\n",
       "      <td>https://ids.si.edu/ids/deliveryService?id=SG-2...</td>\n",
       "      <td>BAR2</td>\n",
       "    </tr>\n",
       "  </tbody>\n",
       "</table>\n",
       "</div>"
      ],
      "text/plain": [
       "                    object_id                        ids_id  \\\n",
       "0  edanmdm-ofeo-sg_2011-0516A  SG-2011-0516A-FAL1-HL-000003   \n",
       "1  edanmdm-ofeo-sg_2011-0516A         SG-2011-0516A-SPR1-HL   \n",
       "2  edanmdm-ofeo-sg_2011-0516A         SG-2011-0516A-SUM1-HL   \n",
       "3  edanmdm-ofeo-sg_2011-0516A         SG-2011-0516A-BAR1-HL   \n",
       "4  edanmdm-ofeo-sg_2011-0516A         SG-2011-0516A-BAR2-HL   \n",
       "\n",
       "                                           image_url image_label  \n",
       "0  https://ids.si.edu/ids/deliveryService?id=SG-2...        FAL1  \n",
       "1  https://ids.si.edu/ids/deliveryService?id=SG-2...        SPR1  \n",
       "2  https://ids.si.edu/ids/deliveryService?id=SG-2...        SUM1  \n",
       "3  https://ids.si.edu/ids/deliveryService?id=SG-2...        BAR1  \n",
       "4  https://ids.si.edu/ids/deliveryService?id=SG-2...        BAR2  "
      ]
     },
     "execution_count": 68,
     "metadata": {},
     "output_type": "execute_result"
    }
   ],
   "source": [
    "images_df['image_label'] = images_df['ids_id'].str.split('-').str.get(3)\n",
    "images_df.head()"
   ]
  },
  {
   "cell_type": "code",
   "execution_count": 74,
   "metadata": {
    "ExecuteTime": {
     "end_time": "2020-12-22T16:39:40.936956Z",
     "start_time": "2020-12-22T16:39:40.929147Z"
    }
   },
   "outputs": [
    {
     "data": {
      "text/plain": [
       "FAL1     1282\n",
       "SUM1     1072\n",
       "WIN1     1067\n",
       "WIN       506\n",
       "SPR1      496\n",
       "         ... \n",
       "FRU5        1\n",
       "203         1\n",
       "STE8        1\n",
       "THRN1       1\n",
       "FAL3        1\n",
       "Name: image_label, Length: 70, dtype: int64"
      ]
     },
     "execution_count": 74,
     "metadata": {},
     "output_type": "execute_result"
    }
   ],
   "source": [
    "images_df['image_label'].value_counts()"
   ]
  },
  {
   "cell_type": "code",
   "execution_count": 82,
   "metadata": {
    "ExecuteTime": {
     "end_time": "2020-12-22T16:42:29.316800Z",
     "start_time": "2020-12-22T16:42:29.302408Z"
    }
   },
   "outputs": [
    {
     "data": {
      "text/html": [
       "<div>\n",
       "<style scoped>\n",
       "    .dataframe tbody tr th:only-of-type {\n",
       "        vertical-align: middle;\n",
       "    }\n",
       "\n",
       "    .dataframe tbody tr th {\n",
       "        vertical-align: top;\n",
       "    }\n",
       "\n",
       "    .dataframe thead th {\n",
       "        text-align: right;\n",
       "    }\n",
       "</style>\n",
       "<table border=\"1\" class=\"dataframe\">\n",
       "  <thead>\n",
       "    <tr style=\"text-align: right;\">\n",
       "      <th></th>\n",
       "      <th>object_id</th>\n",
       "      <th>ids_id</th>\n",
       "      <th>image_url</th>\n",
       "      <th>image_label</th>\n",
       "      <th>image_category</th>\n",
       "    </tr>\n",
       "  </thead>\n",
       "  <tbody>\n",
       "    <tr>\n",
       "      <th>0</th>\n",
       "      <td>edanmdm-ofeo-sg_2011-0516A</td>\n",
       "      <td>SG-2011-0516A-FAL1-HL-000003</td>\n",
       "      <td>https://ids.si.edu/ids/deliveryService?id=SG-2...</td>\n",
       "      <td>FAL1</td>\n",
       "      <td>FAL</td>\n",
       "    </tr>\n",
       "    <tr>\n",
       "      <th>1</th>\n",
       "      <td>edanmdm-ofeo-sg_2011-0516A</td>\n",
       "      <td>SG-2011-0516A-SPR1-HL</td>\n",
       "      <td>https://ids.si.edu/ids/deliveryService?id=SG-2...</td>\n",
       "      <td>SPR1</td>\n",
       "      <td>SPR</td>\n",
       "    </tr>\n",
       "    <tr>\n",
       "      <th>2</th>\n",
       "      <td>edanmdm-ofeo-sg_2011-0516A</td>\n",
       "      <td>SG-2011-0516A-SUM1-HL</td>\n",
       "      <td>https://ids.si.edu/ids/deliveryService?id=SG-2...</td>\n",
       "      <td>SUM1</td>\n",
       "      <td>SUM</td>\n",
       "    </tr>\n",
       "    <tr>\n",
       "      <th>3</th>\n",
       "      <td>edanmdm-ofeo-sg_2011-0516A</td>\n",
       "      <td>SG-2011-0516A-BAR1-HL</td>\n",
       "      <td>https://ids.si.edu/ids/deliveryService?id=SG-2...</td>\n",
       "      <td>BAR1</td>\n",
       "      <td>BAR</td>\n",
       "    </tr>\n",
       "    <tr>\n",
       "      <th>4</th>\n",
       "      <td>edanmdm-ofeo-sg_2011-0516A</td>\n",
       "      <td>SG-2011-0516A-BAR2-HL</td>\n",
       "      <td>https://ids.si.edu/ids/deliveryService?id=SG-2...</td>\n",
       "      <td>BAR2</td>\n",
       "      <td>BAR</td>\n",
       "    </tr>\n",
       "  </tbody>\n",
       "</table>\n",
       "</div>"
      ],
      "text/plain": [
       "                    object_id                        ids_id  \\\n",
       "0  edanmdm-ofeo-sg_2011-0516A  SG-2011-0516A-FAL1-HL-000003   \n",
       "1  edanmdm-ofeo-sg_2011-0516A         SG-2011-0516A-SPR1-HL   \n",
       "2  edanmdm-ofeo-sg_2011-0516A         SG-2011-0516A-SUM1-HL   \n",
       "3  edanmdm-ofeo-sg_2011-0516A         SG-2011-0516A-BAR1-HL   \n",
       "4  edanmdm-ofeo-sg_2011-0516A         SG-2011-0516A-BAR2-HL   \n",
       "\n",
       "                                           image_url image_label  \\\n",
       "0  https://ids.si.edu/ids/deliveryService?id=SG-2...        FAL1   \n",
       "1  https://ids.si.edu/ids/deliveryService?id=SG-2...        SPR1   \n",
       "2  https://ids.si.edu/ids/deliveryService?id=SG-2...        SUM1   \n",
       "3  https://ids.si.edu/ids/deliveryService?id=SG-2...        BAR1   \n",
       "4  https://ids.si.edu/ids/deliveryService?id=SG-2...        BAR2   \n",
       "\n",
       "  image_category  \n",
       "0            FAL  \n",
       "1            SPR  \n",
       "2            SUM  \n",
       "3            BAR  \n",
       "4            BAR  "
      ]
     },
     "execution_count": 82,
     "metadata": {},
     "output_type": "execute_result"
    }
   ],
   "source": [
    "images_df['image_category'] = images_df['image_label'].str.slice(start=0, stop=3)\n",
    "images_df.head()"
   ]
  },
  {
   "cell_type": "code",
   "execution_count": 83,
   "metadata": {
    "ExecuteTime": {
     "end_time": "2020-12-22T16:42:47.013236Z",
     "start_time": "2020-12-22T16:42:47.005814Z"
    }
   },
   "outputs": [
    {
     "data": {
      "text/plain": [
       "WIN    1590\n",
       "FAL    1345\n",
       "SUM    1172\n",
       "STE     845\n",
       "BAR     749\n",
       "SPR     512\n",
       "LEF     348\n",
       "BUD     328\n",
       "SNP     327\n",
       "FLO     279\n",
       "FRU     245\n",
       "LEB     226\n",
       "CON      98\n",
       "MIS      15\n",
       "HL        4\n",
       "GAL       3\n",
       "201       2\n",
       "204       2\n",
       "202       2\n",
       "206       1\n",
       "203       1\n",
       "THR       1\n",
       "SG1       1\n",
       "FUN       1\n",
       "Name: image_category, dtype: int64"
      ]
     },
     "execution_count": 83,
     "metadata": {},
     "output_type": "execute_result"
    }
   ],
   "source": [
    "images_df['image_category'].value_counts()"
   ]
  },
  {
   "cell_type": "code",
   "execution_count": 84,
   "metadata": {
    "ExecuteTime": {
     "end_time": "2020-12-22T17:00:26.411809Z",
     "start_time": "2020-12-22T17:00:26.011662Z"
    }
   },
   "outputs": [],
   "source": [
    "images_df.to_csv('garden_edan_image_data.tsv', sep='\\t', index=False)"
   ]
  },
  {
   "cell_type": "code",
   "execution_count": 85,
   "metadata": {
    "ExecuteTime": {
     "end_time": "2020-12-22T17:43:30.001734Z",
     "start_time": "2020-12-22T17:43:29.994631Z"
    }
   },
   "outputs": [
    {
     "data": {
      "text/plain": [
       "['https://ids.si.edu/ids/deliveryService?id=SG-2011-2859A-WIN1-HL',\n",
       " 'https://ids.si.edu/ids/deliveryService?id=SG-2011-0416A-SUM1-HL']"
      ]
     },
     "execution_count": 85,
     "metadata": {},
     "output_type": "execute_result"
    }
   ],
   "source": [
    "images_df['image_url'].sample(2).tolist()"
   ]
  },
  {
   "cell_type": "code",
   "execution_count": null,
   "metadata": {},
   "outputs": [],
   "source": []
  }
 ],
 "metadata": {
  "kernelspec": {
   "display_name": "Python 3",
   "language": "python",
   "name": "python3"
  },
  "language_info": {
   "codemirror_mode": {
    "name": "ipython",
    "version": 3
   },
   "file_extension": ".py",
   "mimetype": "text/x-python",
   "name": "python",
   "nbconvert_exporter": "python",
   "pygments_lexer": "ipython3",
   "version": "3.8.4"
  }
 },
 "nbformat": 4,
 "nbformat_minor": 4
}
